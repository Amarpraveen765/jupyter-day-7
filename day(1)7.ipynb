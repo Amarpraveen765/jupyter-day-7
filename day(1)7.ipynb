{
 "cells": [
  {
   "cell_type": "markdown",
   "metadata": {},
   "source": [
    "# Markdown Basics\n",
    "## markdown basics\n",
    "### Markdown Basics\n",
    "\n",
    "*point1*(italic)\n",
    "**point2**(bold)\n",
    "***point3***(bold an italic)\n",
    "\n",
    "\n",
    "\n",
    "* normel text\n",
    " * subtext1\n",
    " * subtext2\n",
    " \n",
    "> 1. point1\n",
    "> 2. poitn26\n",
    "\n",
    "\n",
    "* google Site -- [1]: http://www.google.com\n",
    "* msn Site -- [2]: http://www.msn.com\n",
    "\n",
    "\n",
    "- []option 1\n",
    "* google Site -- [google][1]\n",
    "[1]: http://www.google.com"
   ]
  },
  {
   "cell_type": "code",
   "execution_count": 3,
   "metadata": {},
   "outputs": [
    {
     "name": "stdout",
     "output_type": "stream",
     "text": [
      "hello,gitam\n",
      "hyderabad\n"
     ]
    }
   ],
   "source": [
    "print(\"hello,gitam\")\n",
    "print(\"hyderabad\")"
   ]
  },
  {
   "cell_type": "code",
   "execution_count": 13,
   "metadata": {},
   "outputs": [
    {
     "name": "stdout",
     "output_type": "stream",
     "text": [
      "hello, gitam |||\n",
      "hyderabad ||| python programming\n"
     ]
    }
   ],
   "source": [
    "print(\"hello, gitam\", \"|||\")\n",
    "print(\"hyderabad\", end=\" ||| \")\n",
    "print(\"python programming\")"
   ]
  },
  {
   "cell_type": "code",
   "execution_count": 7,
   "metadata": {},
   "outputs": [
    {
     "name": "stdout",
     "output_type": "stream",
     "text": [
      "hello,gitam ||| hyderbad ||| python programming\n"
     ]
    }
   ],
   "source": [
    "print(\"hello, gitam ||| hyderbad ||| python programming\")"
   ]
  },
  {
   "cell_type": "markdown",
   "metadata": {},
   "source": [
    "### Assignments\n"
   ]
  },
  {
   "cell_type": "code",
   "execution_count": 10,
   "metadata": {},
   "outputs": [
    {
     "name": "stdout",
     "output_type": "stream",
     "text": [
      "100\n",
      "20 20 20\n",
      "111 222 333\n"
     ]
    }
   ],
   "source": [
    "n1 = 100 # single variable assignment\n",
    "a = b = c = 20 # multiple variable assignment\n",
    "a1,b1,c1 = 111,222,333 # multiple variable assignment 2\n",
    "print(n1)\n",
    "print(a,b,c)\n",
    "print(a1,b1,c1)"
   ]
  },
  {
   "cell_type": "markdown",
   "metadata": {},
   "source": [
    "### Data types and converstions\n",
    "* int\n",
    "* float\n",
    "* string"
   ]
  },
  {
   "cell_type": "code",
   "execution_count": 26,
   "metadata": {},
   "outputs": [
    {
     "name": "stdout",
     "output_type": "stream",
     "text": [
      "20\n",
      "python\n",
      "p\n",
      "10.2\n",
      "<class 'int'>\n",
      "<class 'str'>\n",
      "<class 'str'>\n",
      "<class 'float'>\n",
      "   \n",
      "20 python p 10.2\n",
      "<class 'int'> <class 'str'> <class 'str'> <class 'float'>\n"
     ]
    }
   ],
   "source": [
    "n1 = 100;\n",
    "s1 = \"python\"\n",
    "s2 = 'p'\n",
    "f1 = 10.2\n",
    "print(a)\n",
    "print(s1)\n",
    "print(s2)\n",
    "print(f1)\n",
    "print(type(a)) # to find its data type\n",
    "print(type(s1))\n",
    "print(type(s2))\n",
    "print(type(f1))\n",
    "print(\"   \")\n",
    "# or(all in one line)\n",
    "print(a,s1,s2,f1)\n",
    "print(type(a),type(s1),type(s2),type(f1))\n"
   ]
  },
  {
   "cell_type": "code",
   "execution_count": 27,
   "metadata": {},
   "outputs": [
    {
     "name": "stdout",
     "output_type": "stream",
     "text": [
      "Hello world!\n",
      "Hello world!\n"
     ]
    }
   ],
   "source": [
    "print(\"Hello world!\\nHello world!\")"
   ]
  },
  {
   "cell_type": "code",
   "execution_count": 32,
   "metadata": {},
   "outputs": [
    {
     "name": "stdout",
     "output_type": "stream",
     "text": [
      "<class 'str'>\n",
      "<class 'int'>\n",
      "100\n",
      "\n",
      "\n",
      "<class 'int'>\n",
      "1\n"
     ]
    }
   ],
   "source": [
    "s1 = \"100\"\n",
    "print(type(s1))\n",
    "a = int(s1)\n",
    "print(type(a))\n",
    "print(a)\n",
    "print(\"\\n\")\n",
    "f = 1.5\n",
    "a1 = int(f)\n",
    "print(type(a1))\n",
    "print(a1)\n"
   ]
  },
  {
   "cell_type": "code",
   "execution_count": 33,
   "metadata": {},
   "outputs": [
    {
     "name": "stdout",
     "output_type": "stream",
     "text": [
      "4\n"
     ]
    }
   ],
   "source": [
    "# a number is give 1234 -\n",
    "# digit count\n",
    "a1 = 1234\n",
    "print(len(str(a1)))\n"
   ]
  },
  {
   "cell_type": "markdown",
   "metadata": {},
   "source": [
    "## reading a value\n",
    "### * input(\"message\") --string"
   ]
  },
  {
   "cell_type": "code",
   "execution_count": 36,
   "metadata": {},
   "outputs": [
    {
     "name": "stdout",
     "output_type": "stream",
     "text": [
      "enter your nameAmar Praveen\n",
      "Amar Praveen\n",
      "<class 'str'>\n"
     ]
    }
   ],
   "source": [
    "s1 = input(\"enter your name\")\n",
    "print(s1)\n",
    "print(type(s1))"
   ]
  },
  {
   "cell_type": "code",
   "execution_count": 38,
   "metadata": {},
   "outputs": [
    {
     "name": "stdout",
     "output_type": "stream",
     "text": [
      "enter a number10\n",
      "10 \t <class 'int'>\n"
     ]
    }
   ],
   "source": [
    "# want a number as the input\n",
    "s1 = int(input(\"enter a number\"))\n",
    "print(s1,\"\\t\",type(s1))"
   ]
  },
  {
   "cell_type": "markdown",
   "metadata": {},
   "source": [
    "# operations\n",
    "\n",
    "\n",
    "\n",
    "### arithetic operators\n",
    "\n",
    "* + \n",
    "* -\n",
    "* *\n",
    "* /\n",
    "* //\n",
    "* %\n",
    "\n",
    "**\n",
    "\n"
   ]
  },
  {
   "cell_type": "code",
   "execution_count": 55,
   "metadata": {},
   "outputs": [
    {
     "name": "stdout",
     "output_type": "stream",
     "text": [
      "11\n",
      "-9\n",
      "10\n",
      "0.1\n",
      "1\n",
      "0\n",
      "1\n"
     ]
    }
   ],
   "source": [
    "a = 1\n",
    "print(a+10)\n",
    "print(a-10)\n",
    "print(a*10)\n",
    "print(a/10) \n",
    "print(a%10)\n",
    "print(a//10) # gives coefficent in int\n",
    "print(a**10) #gives power of the number"
   ]
  },
  {
   "cell_type": "markdown",
   "metadata": {},
   "source": [
    "### Procedence of arth operator \n",
    "\n",
    "* parenthesis (problem in th brackets) \n",
    "* power\n",
    "* division\n",
    "* multiplication\n",
    "* addition\n",
    "* sub"
   ]
  },
  {
   "cell_type": "code",
   "execution_count": 58,
   "metadata": {},
   "outputs": [
    {
     "name": "stdout",
     "output_type": "stream",
     "text": [
      "8.0\n"
     ]
    }
   ],
   "source": [
    "x = 1 + 2 ** 3 / 4 + 5\n",
    "print(x)"
   ]
  },
  {
   "cell_type": "code",
   "execution_count": 59,
   "metadata": {},
   "outputs": [
    {
     "name": "stdout",
     "output_type": "stream",
     "text": [
      "11.0\n"
     ]
    }
   ],
   "source": [
    "x = 1 + 2 ** 3 / 4 * 5\n",
    "print(x)"
   ]
  },
  {
   "cell_type": "markdown",
   "metadata": {},
   "source": [
    "## Relational operators\n",
    "\n",
    "* ==\n",
    "* !=\n",
    "* greater than(>)\n",
    "* lesser than (<)\n",
    "* greater than equal to(>=)\n",
    "* lesser than equal to(<=)"
   ]
  },
  {
   "cell_type": "code",
   "execution_count": 69,
   "metadata": {},
   "outputs": [],
   "source": [
    "i = 100\n",
    "a = (i>15) and (i<75)\n",
    "b = (i>15) and (i<150)"
   ]
  },
  {
   "cell_type": "markdown",
   "metadata": {},
   "source": [
    "## logical operators\n",
    " \n",
    " \n",
    "used to combine mor than singal comand\n",
    "\n",
    "* and \n",
    "* or \n",
    "* not "
   ]
  },
  {
   "cell_type": "code",
   "execution_count": 62,
   "metadata": {},
   "outputs": [
    {
     "name": "stdout",
     "output_type": "stream",
     "text": [
      "enter a number10\n",
      "even\n"
     ]
    }
   ],
   "source": [
    "# to check a given number is even or odd\n",
    "n = int(input(\"enter a number\"))\n",
    "if n%2 == 0:\n",
    "    print(\"even\")\n",
    "else:\n",
    "    print(\"odd\")\n",
    "           "
   ]
  },
  {
   "cell_type": "code",
   "execution_count": 67,
   "metadata": {},
   "outputs": [
    {
     "name": "stdout",
     "output_type": "stream",
     "text": [
      "enter a number15\n",
      "yes\n"
     ]
    }
   ],
   "source": [
    "# to check if given number is perfect multiple of 3 and 5\n",
    "n = int(input(\"enter a number\"))\n",
    "if n%3==0 and n%5 == 0:\n",
    "    print(\"yes\")\n",
    "else:\n",
    "    print(\"no\")"
   ]
  },
  {
   "cell_type": "code",
   "execution_count": 74,
   "metadata": {},
   "outputs": [
    {
     "name": "stdout",
     "output_type": "stream",
     "text": [
      "enter a number0\n",
      "zero\n"
     ]
    }
   ],
   "source": [
    "# to check given number is positive,negative or zero\n",
    "n = int(input(\"enter a number\"))\n",
    "if n>0:\n",
    "    print(\"positive\")\n",
    "elif n==0:\n",
    "    print(\"zero\")\n",
    "elif n<0:\n",
    "        print(\"negative\")\n",
    "        \n"
   ]
  },
  {
   "cell_type": "code",
   "execution_count": 2,
   "metadata": {},
   "outputs": [
    {
     "name": "stdout",
     "output_type": "stream",
     "text": [
      "enter a number2\n",
      "enter a number1\n",
      "enter a number0\n",
      "2 is greatest\n"
     ]
    }
   ],
   "source": [
    "# to check the greatest number\n",
    "a = int(input(\"enter a number\"))\n",
    "b = int(input(\"enter a number\"))\n",
    "c = int(input(\"enter a number\"))\n",
    "if (a>b) and (a>c):\n",
    "    print (a,\"is greatest\")\n",
    "elif (b>a) and (b>c):\n",
    "    print (b,\"is greatest\")\n",
    "if (c>b) and (c>a):\n",
    "    print (c,\"is greatest\")\n"
   ]
  },
  {
   "cell_type": "code",
   "execution_count": 6,
   "metadata": {},
   "outputs": [
    {
     "name": "stdout",
     "output_type": "stream",
     "text": [
      "enter the year2004\n",
      "it is a leap year\n"
     ]
    }
   ],
   "source": [
    "# to check if given year is leap year or not\n",
    "y = int(input(\"enter the year\"))\n",
    "if (y%4==0) and (y%100!=0):\n",
    "    print (\"it is a leap year\")\n",
    "else:\n",
    "    print (\"it is not a leap year\")"
   ]
  },
  {
   "cell_type": "markdown",
   "metadata": {},
   "source": [
    "## while loop"
   ]
  },
  {
   "cell_type": "code",
   "execution_count": 12,
   "metadata": {},
   "outputs": [
    {
     "name": "stdout",
     "output_type": "stream",
     "text": [
      "gitam\n",
      "gitam\n",
      "gitam\n",
      "gitam\n",
      "gitam\n",
      "\n",
      "or using while loop \n",
      "enter how many time u want to print ==\t6\n",
      "gitam\n",
      "gitam\n",
      "gitam\n",
      "gitam\n",
      "gitam\n",
      "gitam\n"
     ]
    }
   ],
   "source": [
    "# print gitam 5 times \n",
    "print(\"gitam\")\n",
    "print(\"gitam\")\n",
    "print(\"gitam\")\n",
    "print(\"gitam\")\n",
    "print(\"gitam\")\n",
    "print(\"\\nor using while loop \")\n",
    "a=0\n",
    "n = int(input(\"enter how many time u want to print ==\\t\"))\n",
    "while a < n :\n",
    "    print(\"gitam\")\n",
    "    a=a+1\n"
   ]
  },
  {
   "cell_type": "code",
   "execution_count": 17,
   "metadata": {},
   "outputs": [
    {
     "name": "stdout",
     "output_type": "stream",
     "text": [
      "enter the end number==\t10\n",
      "1 2 3 4 5 6 7 8 9 "
     ]
    }
   ],
   "source": [
    "# print N natural numbers using while loop\n",
    "a=1\n",
    "n = int(input(\"enter the end number==\\t\"))\n",
    "while a < n :\n",
    "    print(a,end = \" \")\n",
    "    a=a+1"
   ]
  },
  {
   "cell_type": "code",
   "execution_count": 24,
   "metadata": {},
   "outputs": [
    {
     "name": "stdout",
     "output_type": "stream",
     "text": [
      "enter the end number==\t10\n",
      "0 2 4 6 8 10 \n",
      "sum of even numbers is = 30\n"
     ]
    }
   ],
   "source": [
    "# adding of even number from 1\n",
    "a = 0\n",
    "s = 0 \n",
    "n = int(input(\"enter the end number==\\t\"))\n",
    "while a <=n:\n",
    "    print(a,end=\" \")\n",
    "    s = s + a\n",
    "    a=a+2\n",
    "print(\"\\nsum of even numbers is =\",s)    "
   ]
  },
  {
   "cell_type": "code",
   "execution_count": 32,
   "metadata": {},
   "outputs": [
    {
     "name": "stdout",
     "output_type": "stream",
     "text": [
      "enter a number ==\t123\n",
      "123 \n",
      " 321\n"
     ]
    }
   ],
   "source": [
    "# given number is -- 123\n",
    "# print the given number like -- 321\n",
    "a = int(input(\"enter a number ==\\t\"))\n",
    "b = a\n",
    "s = 0\n",
    "c=0\n",
    "while a != 0:\n",
    "    c= a % 10\n",
    "    s= c + (s*10)\n",
    "    a= a // 10\n",
    "print(b,\"\\n\",s)    \n"
   ]
  },
  {
   "cell_type": "markdown",
   "metadata": {},
   "source": [
    "## functional programming\n",
    "* simple\n",
    "* easy read\n",
    "* Lengthy program divides into sub programs"
   ]
  },
  {
   "cell_type": "raw",
   "metadata": {},
   "source": [
    "def name of the function(<parameters>):\n",
    "    statements\n",
    "    return"
   ]
  },
  {
   "cell_type": "code",
   "execution_count": 34,
   "metadata": {},
   "outputs": [
    {
     "name": "stdout",
     "output_type": "stream",
     "text": [
      "enter end number10\n",
      "30\n"
     ]
    }
   ],
   "source": [
    "# sum of even numbers\n",
    "def sumofeven(n):\n",
    "    i=0\n",
    "    sum=0\n",
    "    while i<n:\n",
    "        i=i+1\n",
    "        if (i%2==0):\n",
    "            sum=sum + i\n",
    "    return(sum)\n",
    "k=int(input(\"enter end number\"))\n",
    "l= sumofeven(k)\n",
    "print(l)"
   ]
  },
  {
   "cell_type": "code",
   "execution_count": 3,
   "metadata": {},
   "outputs": [
    {
     "name": "stdout",
     "output_type": "stream",
     "text": [
      "0\n"
     ]
    }
   ],
   "source": [
    "# read a number --1234\n",
    "#Output --6 (2+4)\n",
    "def addEvenDigits(n):\n",
    "    sum=0\n",
    "    while n!= 0:\n",
    "        r=n%10\n",
    "        if r%10 ==0:\n",
    "            sum=sum+r\n",
    "        n=n//10\n",
    "    print(sum)    \n",
    "    return\n",
    "addEvenDigits(1234)"
   ]
  },
  {
   "cell_type": "code",
   "execution_count": 9,
   "metadata": {},
   "outputs": [
    {
     "data": {
      "text/plain": [
       "0"
      ]
     },
     "execution_count": 9,
     "metadata": {},
     "output_type": "execute_result"
    }
   ],
   "source": [
    "# read a number --1234\n",
    "#Output --6 (2+4)\n",
    "def addEvenDigits(n):\n",
    "    s=0\n",
    "    while n!= 0:\n",
    "        r=n%10\n",
    "        if r%10 ==0:\n",
    "            s=s+r\n",
    "        n=n//10  \n",
    "    return s\n",
    "addEvenDigits(1234)"
   ]
  },
  {
   "cell_type": "code",
   "execution_count": 7,
   "metadata": {},
   "outputs": [
    {
     "data": {
      "text/plain": [
       "9"
      ]
     },
     "execution_count": 7,
     "metadata": {},
     "output_type": "execute_result"
    }
   ],
   "source": [
    "# read a number -- 19528\n",
    "# print the large digit print the number\n",
    "def printlarge(n):\n",
    "    large = 0\n",
    "    while n != 0:\n",
    "        r = n%10\n",
    "        if large < r:\n",
    "            large =r\n",
    "        n = n// 10\n",
    "    return large\n",
    "printlarge(19528)\n",
    "            "
   ]
  },
  {
   "cell_type": "code",
   "execution_count": 6,
   "metadata": {},
   "outputs": [
    {
     "name": "stdout",
     "output_type": "stream",
     "text": [
      "enter a number ==\t123\n"
     ]
    },
    {
     "data": {
      "text/plain": [
       "321"
      ]
     },
     "execution_count": 6,
     "metadata": {},
     "output_type": "execute_result"
    }
   ],
   "source": [
    "# read the number input\n",
    "# Output reverse of the given number\n",
    "# 123 - 321\n",
    "def reverseNumber(n):\n",
    "    a = int(input(\"enter a number ==\\t\"))\n",
    "    b = a\n",
    "    s = 0\n",
    "    c=0\n",
    "    while a != 0:\n",
    "        c= a % 10\n",
    "        s= c + (s*10)\n",
    "        a= a // 10\n",
    "    return s\n",
    "reverseNumber(123)         "
   ]
  },
  {
   "cell_type": "code",
   "execution_count": 10,
   "metadata": {},
   "outputs": [
    {
     "name": "stdout",
     "output_type": "stream",
     "text": [
      "No\n",
      "Yes\n"
     ]
    }
   ],
   "source": [
    " # given number is palendrome or not\n",
    "# input\n",
    "# 123 -- 321 No\n",
    "# 121 -- 121 Yes\n",
    "def palindrome(n):\n",
    "    rev = 0\n",
    "    buffer = n\n",
    "    while n != 0:\n",
    "        r =n%10\n",
    "        rev = rev * 10 +r\n",
    "        n = n // 10\n",
    "    if buffer == rev:\n",
    "        return \"Yes\"\n",
    "    else:\n",
    "        return \"No\"\n",
    "    \n",
    "print(palindrome(123))\n",
    "print(palindrome(121))\n"
   ]
  },
  {
   "cell_type": "code",
   "execution_count": 11,
   "metadata": {},
   "outputs": [
    {
     "name": "stdout",
     "output_type": "stream",
     "text": [
      "1 2 3 4 5 6 7 8 9 10 "
     ]
    }
   ],
   "source": [
    "# function to print N natural Numbers\n",
    "def NNaturalNumbers(n):\n",
    "    for x in range(1,n+1):\n",
    "        print(x,end=\" \")\n",
    "    return    \n",
    "NNaturalNumbers(10)"
   ]
  },
  {
   "cell_type": "code",
   "execution_count": 13,
   "metadata": {},
   "outputs": [
    {
     "name": "stdout",
     "output_type": "stream",
     "text": [
      "11 12 13 14 15 16 17 18 19 20 21 22 23 24 25 "
     ]
    }
   ],
   "source": [
    "# function to print two numbers bitween two limits\n",
    "# input: 11,25\n",
    "# Output: 11,12,13...25\n",
    "def printseries(lb,ub):\n",
    "    for x in range(lb,ub+1):\n",
    "        print(x,end=\" \")\n",
    "    return    \n",
    "printseries(11,25)"
   ]
  },
  {
   "cell_type": "code",
   "execution_count": 15,
   "metadata": {},
   "outputs": [
    {
     "name": "stdout",
     "output_type": "stream",
     "text": [
      "500 504 508 512 516 520 \n",
      "\n",
      "100 104 108 112 116 120 124 128 132 136 140 144 148 "
     ]
    }
   ],
   "source": [
    "# function to print alternate number\n",
    "# [500,520] -- 500 502 504 506..... 520\n",
    "# [100,150] -- 100 102 104 106 ..150\n",
    "def alternateNumbers(lb,ub):\n",
    "    for x in range(lb,ub+1,4):\n",
    "        print(x,end=\" \")\n",
    "    return    \n",
    "alternateNumbers(500,520)\n",
    "print(\"\\n\")\n",
    "alternateNumbers(100,150)        "
   ]
  },
  {
   "cell_type": "code",
   "execution_count": 18,
   "metadata": {},
   "outputs": [
    {
     "name": "stdout",
     "output_type": "stream",
     "text": [
      "10 9 8 7 6 5 4 3 2 1 "
     ]
    }
   ],
   "source": [
    "# function to print the serice in reverse\n",
    "# input 1,10\n",
    "# Output: 10,9,8,7....1\n",
    "def reverserange(start,end):\n",
    "    for x in range(end,start-1,-1):\n",
    "        print(x,end=\" \")\n",
    "    return\n",
    "reverserange(1,10)"
   ]
  },
  {
   "cell_type": "code",
   "execution_count": 8,
   "metadata": {},
   "outputs": [
    {
     "data": {
      "text/plain": [
       "True"
      ]
     },
     "execution_count": 8,
     "metadata": {},
     "output_type": "execute_result"
    }
   ],
   "source": [
    "# given number is prime \n",
    "def isprime(n):\n",
    "    flag = True\n",
    "    for i in range(2,n//2+1):\n",
    "        if n %i==0:\n",
    "            flag = False\n",
    "            return flag\n",
    "    return flag\n",
    "isprime(3)\n",
    "    "
   ]
  },
  {
   "cell_type": "code",
   "execution_count": 27,
   "metadata": {},
   "outputs": [
    {
     "name": "stdout",
     "output_type": "stream",
     "text": [
      "1 2 3 4 6 12 "
     ]
    }
   ],
   "source": [
    "# find factors of given number\n",
    "# 12.....> 1 2 3 4  6 12\n",
    "def factors(n):\n",
    "    for i in range(1,n+1):\n",
    "        if n%i==0:\n",
    "            print(i,end=\" \")\n",
    "    return\n",
    "factors(12)"
   ]
  },
  {
   "cell_type": "code",
   "execution_count": 14,
   "metadata": {},
   "outputs": [
    {
     "data": {
      "text/plain": [
       "4"
      ]
     },
     "execution_count": 14,
     "metadata": {},
     "output_type": "execute_result"
    }
   ],
   "source": [
    "# function to find prime number count from 1 to n\n",
    "def prime(n):\n",
    "    cnt=0\n",
    "    for a in range(2,n+1):\n",
    "        k = 0\n",
    "        for i in range(2,a//2+1):\n",
    "            if a % i== 0:\n",
    "                k = k + 1\n",
    "            if (k<=0):\n",
    "                cnt=cnt+1\n",
    "    return cnt\n",
    "prime(10)    \n",
    "        \n",
    "    "
   ]
  },
  {
   "cell_type": "code",
   "execution_count": 18,
   "metadata": {},
   "outputs": [
    {
     "data": {
      "text/plain": [
       "'YES'"
      ]
     },
     "execution_count": 18,
     "metadata": {},
     "output_type": "execute_result"
    }
   ],
   "source": [
    "# individual digit factorial sum is same as original number\n",
    "def fact(n):\n",
    "    fact=1\n",
    "    for i in range (1,n+1):\n",
    "        fact=fact*i\n",
    "    return fact\n",
    "def factsum(n):\n",
    "    sum=0\n",
    "    a=n\n",
    "    while n!=0:\n",
    "        r=n%10\n",
    "        sum=sum+fact(r)\n",
    "        n=n//10\n",
    "    if (sum==a):\n",
    "        return \"YES\"\n",
    "    else:\n",
    "        return \"NO\"\n",
    "    return\n",
    "factsum(145)\n",
    "        \n",
    "    \n",
    "    \n",
    "    \n",
    "    \n",
    "    \n",
    "    \n",
    " "
   ]
  },
  {
   "cell_type": "code",
   "execution_count": 26,
   "metadata": {},
   "outputs": [
    {
     "data": {
      "text/plain": [
       "9"
      ]
     },
     "execution_count": 26,
     "metadata": {},
     "output_type": "execute_result"
    }
   ],
   "source": [
    "# function to return the count of palindrome number two limits\n",
    "# Input : 1 10\n",
    "# Output : 9 (1,2,3,4,5,6,7,8,9)\n",
    "\n",
    "# Input : 11 100\n",
    "# Output : 9(11,22,33,44,....,99)\n",
    "\n",
    "def ispalindrome(n):\n",
    "    rev=0\n",
    "    buffer = n\n",
    "    while n!=0:\n",
    "        r = n % 10\n",
    "        rev = rev *10 + r\n",
    "        n= n// 10\n",
    "    if rev == buffer:\n",
    "        return True\n",
    "    else:\n",
    "        return False\n",
    "    return\n",
    "def count(lb,ub):\n",
    "    cnt = 0\n",
    "    while lb != ub:\n",
    "        # Implement\n",
    "        if ispalindrome(lb) == True:\n",
    "            cnt = cnt + 1\n",
    "        lb =lb +1\n",
    "    return cnt \n",
    "count(11,100)"
   ]
  },
  {
   "cell_type": "code",
   "execution_count": 28,
   "metadata": {},
   "outputs": [
    {
     "name": "stdout",
     "output_type": "stream",
     "text": [
      "6 \n",
      "6 28 496 8128 \n"
     ]
    }
   ],
   "source": [
    "# function to generate the perfect numbers in a given range\n",
    "# perfect number : sum of all its same as the original number \n",
    "# Example : 6 -- 123(1+2+3)\n",
    "#Input : 1 10\n",
    "# Output : 6\n",
    "def factors(n):\n",
    "    sum=0\n",
    "    for i in range(1,n//2+1):\n",
    "        if n%i==0:\n",
    "            sum =sum+ i\n",
    "    return sum\n",
    "def isperfect(n):\n",
    "    if factors(n) == n:\n",
    "        return True\n",
    "    return False\n",
    "def generateperfect(lb,ub):\n",
    "    for x in range(lb,ub+1):\n",
    "        if isperfect(x):\n",
    "            print(x,end=\" \")\n",
    "    print()\n",
    "    return\n",
    "generateperfect(1,10)\n",
    "generateperfect(1,10000)"
   ]
  },
  {
   "cell_type": "markdown",
   "metadata": {},
   "source": [
    "# strings"
   ]
  },
  {
   "cell_type": "code",
   "execution_count": 34,
   "metadata": {},
   "outputs": [
    {
     "name": "stdout",
     "output_type": "stream",
     "text": [
      "p\n",
      "v\n",
      "n\n",
      "n\n",
      "v\n",
      "pr\n",
      "een\n",
      "aveen\n"
     ]
    }
   ],
   "source": [
    "s='praveen'\n",
    "print(s[0])\n",
    "print(s[3])\n",
    "print(s[-1]) # Another way to acess last charecter\n",
    "print(s[len(s)-1]) # Aother way to acess last charecter\n",
    "print(s[-4])\n",
    "print(s[0:2]) # Access the first characters\n",
    "print(s[-3:]) # last three characters\n",
    "print(s[2:])"
   ]
  },
  {
   "cell_type": "code",
   "execution_count": 38,
   "metadata": {},
   "outputs": [
    {
     "name": "stdout",
     "output_type": "stream",
     "text": [
      "ravee\n",
      "v\n",
      "neevarp\n",
      "ne\n",
      "pr\n",
      "pvn\n"
     ]
    }
   ],
   "source": [
    "s='praveen'\n",
    "print(s[1:-1]) # printing all characters except first and last\n",
    "print(s[len(s)//2]) # Middle of the string\n",
    "print(s[-1::-1]) # Reverse of the string\n",
    "print(s[-1:-3:-1]) # accessing lat two characters in revers order\n",
    "      # accesing characters in revers order\n",
    "print(s[:2]) # two characters \n",
    "print(s[::3]) # Three characters "
   ]
  },
  {
   "cell_type": "code",
   "execution_count": 40,
   "metadata": {},
   "outputs": [
    {
     "data": {
      "text/plain": [
       "'gnimmargorp'"
      ]
     },
     "execution_count": 40,
     "metadata": {},
     "output_type": "execute_result"
    }
   ],
   "source": [
    "def reversestring(str):\n",
    "    return str[-1::-1]\n",
    "reversestring(\"programming\")"
   ]
  },
  {
   "cell_type": "code",
   "execution_count": 39,
   "metadata": {},
   "outputs": [
    {
     "name": "stdout",
     "output_type": "stream",
     "text": [
      "False\n",
      "True\n"
     ]
    }
   ],
   "source": [
    "def ispalindrome(str):\n",
    "    if str == str[::-1]:\n",
    "        return True\n",
    "    else:\n",
    "         return False\n",
    "    return\n",
    "print(ispalindrome(\"praveen\"))\n",
    "print(ispalindrome(\"nivin\"))"
   ]
  },
  {
   "cell_type": "code",
   "execution_count": 44,
   "metadata": {},
   "outputs": [
    {
     "name": "stdout",
     "output_type": "stream",
     "text": [
      "P T "
     ]
    }
   ],
   "source": [
    "# Function to print upper case characters\n",
    "# Exampl : Python -- P\n",
    "#ASCII :-\n",
    "# A - Z : 65 -90\n",
    "# a - z : 97 - 122\n",
    "# 0 - 9 : 48 -57\n",
    "# Space : 32\n",
    "def printupper(x):\n",
    "    for i in range(len(x)):\n",
    "        if ord(x[i]) >=65 and ord(x[i]) <=90:\n",
    "            print(x[i],end=\" \")\n",
    "    return\n",
    "printupper(\"PyThon\")"
   ]
  },
  {
   "cell_type": "code",
   "execution_count": 45,
   "metadata": {},
   "outputs": [
    {
     "data": {
      "text/plain": [
       "65"
      ]
     },
     "execution_count": 45,
     "metadata": {},
     "output_type": "execute_result"
    }
   ],
   "source": [
    "ord('A') # it gives the ascii value of the character"
   ]
  },
  {
   "cell_type": "code",
   "execution_count": 46,
   "metadata": {},
   "outputs": [
    {
     "name": "stdout",
     "output_type": "stream",
     "text": [
      "same count\n",
      "programming\n"
     ]
    }
   ],
   "source": [
    "# Function to print \"Python\" if the count of \n",
    "# Upper and lower case is same \n",
    "# Print \"programming\" if not same \n",
    "# Example :-  PyThOn -- 3 P T O(Upper case) -- same count\n",
    "#                       3 y h n (Upper case)\n",
    "# PytHon -- P H (2)\n",
    "#        -- y t o n (4) -- programming\n",
    "def findcount(str):\n",
    "    cntupper = 0\n",
    "    cntlower = 0\n",
    "    for x in range(len(str)):\n",
    "        if ord(str[x]) >=65 and ord(str[x]) <=90:\n",
    "            cntupper =cntupper+1\n",
    "        elif ord(str[x]) >=97 and ord(str[x]) <=122:\n",
    "            cntlower = cntlower + 1 \n",
    "    if cntupper == cntlower:\n",
    "        return \"same count\"\n",
    "    else:\n",
    "        return \"programming\"\n",
    "    return\n",
    "print(findcount('PyThOn')) # same count\n",
    "print(findcount('PYTHOn')) # programming\n",
    "            "
   ]
  },
  {
   "cell_type": "code",
   "execution_count": 49,
   "metadata": {},
   "outputs": [
    {
     "name": "stdout",
     "output_type": "stream",
     "text": [
      "1 8 8 9 "
     ]
    }
   ],
   "source": [
    "# extract digits form given string\n",
    "# Example :\n",
    "# Input : Appli1cat8ion89\n",
    "# output : 1 8 8 9\n",
    "def extractdigits(str):\n",
    "    for x in range(len(str)):\n",
    "        if ord(str[x]) >=48 and ord(str[x]) <=57:\n",
    "            print(str[x],end=\" \")\n",
    "    return\n",
    "extractdigits(\"AppLi1cat8ion89\") # 1 8 8 9"
   ]
  },
  {
   "cell_type": "code",
   "execution_count": 52,
   "metadata": {},
   "outputs": [
    {
     "data": {
      "text/plain": [
       "26"
      ]
     },
     "execution_count": 52,
     "metadata": {},
     "output_type": "execute_result"
    }
   ],
   "source": [
    "# function to return the sum of digits in a given string\n",
    "#Example:\n",
    "#Input : Appli1cat8ion89\n",
    "# Output : 26(1+8+8+9)\n",
    "# 0 1 2 3 4 5 ..9\n",
    "# 48 49 50 51 52 53 ....57\n",
    "def sumofdigits(str):\n",
    "    sum =0\n",
    "    for x in range(len(str)):\n",
    "        if ord(str[x]) >= 48 and ord(str[x]) <=57:\n",
    "            sum =sum +(ord(str[x])-48)\n",
    "    return sum\n",
    "sumofdigits('Appli1cat8ion89')\n",
    "        "
   ]
  },
  {
   "cell_type": "code",
   "execution_count": 53,
   "metadata": {},
   "outputs": [
    {
     "data": {
      "text/plain": [
       "16"
      ]
     },
     "execution_count": 53,
     "metadata": {},
     "output_type": "execute_result"
    }
   ],
   "source": [
    "# function to return the sum of digits in a given string 2\n",
    "#Example:\n",
    "#Input : Appli1cat8ion89\n",
    "# Output : 16(8+8)\n",
    "def sumofevendigits(str):\n",
    "    sum =0\n",
    "    for x in range(len(str)):\n",
    "        if ord(str[x]) >= 48 and ord(str[x]) <=57:\n",
    "            if (ord(str[x])-48) % 2 ==0:\n",
    "                sum =sum +(ord(str[x])-48)\n",
    "    return sum       \n",
    "sumofevendigits('Appli1cat8ion89')"
   ]
  },
  {
   "cell_type": "code",
   "execution_count": 54,
   "metadata": {},
   "outputs": [
    {
     "name": "stdout",
     "output_type": "stream",
     "text": [
      "M A D E "
     ]
    }
   ],
   "source": [
    "# function to print the specific word in upper case \n",
    "# example :\n",
    "# input : Python made Easy\n",
    "# output : MADE \n",
    "# input : learn Python Programming\n",
    "#output : PYTHON\n",
    "def worduppercase(s):\n",
    "    spacecnt =0 \n",
    "    for x in range(len(s)):\n",
    "        if ord(s[x]) ==32:\n",
    "            spacecnt += 1 # spacecnt = spacecnt+1\n",
    "        if spacecnt ==1:\n",
    "            if ord(s[x]) >=65 and ord(s[x]) <=90:\n",
    "                print(s[x],end=\" \")\n",
    "            elif ord(s[x]) >=97 and ord(s[x]) <=122:\n",
    "                print(chr(ord(s[x])-32),end=\" \")\n",
    "        if spacecnt ==2:\n",
    "            break\n",
    "    return\n",
    "worduppercase('Python made Easy') # MADE\n"
   ]
  },
  {
   "cell_type": "code",
   "execution_count": null,
   "metadata": {},
   "outputs": [],
   "source": []
  }
 ],
 "metadata": {
  "kernelspec": {
   "display_name": "Python 3",
   "language": "python",
   "name": "python3"
  },
  "language_info": {
   "codemirror_mode": {
    "name": "ipython",
    "version": 3
   },
   "file_extension": ".py",
   "mimetype": "text/x-python",
   "name": "python",
   "nbconvert_exporter": "python",
   "pygments_lexer": "ipython3",
   "version": "3.7.3"
  }
 },
 "nbformat": 4,
 "nbformat_minor": 2
}
